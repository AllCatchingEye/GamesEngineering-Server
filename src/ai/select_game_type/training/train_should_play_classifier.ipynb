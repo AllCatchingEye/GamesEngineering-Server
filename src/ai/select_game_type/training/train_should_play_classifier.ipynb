{
 "cells": [
  {
   "cell_type": "code",
   "execution_count": 27,
   "metadata": {},
   "outputs": [],
   "source": [
    "import torch\n",
    "import pandas as pd\n",
    "import numpy as np\n",
    "from torch import nn\n",
    "from torch.utils.data import Dataset, DataLoader\n",
    "from sklearn.model_selection import train_test_split\n",
    "from sklearn.utils import shuffle\n",
    "\n",
    "from sklearn.metrics import confusion_matrix\n",
    "import seaborn as sn\n",
    "import pandas as pd\n",
    "from matplotlib import pyplot as plt"
   ]
  },
  {
   "cell_type": "code",
   "execution_count": 26,
   "metadata": {},
   "outputs": [],
   "source": [
    "device = \"cpu\""
   ]
  },
  {
   "cell_type": "code",
   "execution_count": 5,
   "metadata": {},
   "outputs": [
    {
     "data": {
      "text/html": [
       "<div>\n",
       "<style scoped>\n",
       "    .dataframe tbody tr th:only-of-type {\n",
       "        vertical-align: middle;\n",
       "    }\n",
       "\n",
       "    .dataframe tbody tr th {\n",
       "        vertical-align: top;\n",
       "    }\n",
       "\n",
       "    .dataframe thead th {\n",
       "        text-align: right;\n",
       "    }\n",
       "</style>\n",
       "<table border=\"1\" class=\"dataframe\">\n",
       "  <thead>\n",
       "    <tr style=\"text-align: right;\">\n",
       "      <th></th>\n",
       "      <th>Player1</th>\n",
       "      <th>Player2</th>\n",
       "      <th>Player3</th>\n",
       "      <th>Player4</th>\n",
       "      <th>Eichel Ober</th>\n",
       "      <th>Eichel Unter</th>\n",
       "      <th>Eichel Ass</th>\n",
       "      <th>Eichel 10</th>\n",
       "      <th>Eichel König</th>\n",
       "      <th>Eichel 9</th>\n",
       "      <th>...</th>\n",
       "      <th>SchellenOber</th>\n",
       "      <th>SchellenUnter</th>\n",
       "      <th>SchellenAss</th>\n",
       "      <th>Schellen10</th>\n",
       "      <th>SchellenKönig</th>\n",
       "      <th>Schellen9</th>\n",
       "      <th>Schellen8</th>\n",
       "      <th>Schellen7</th>\n",
       "      <th>Modus</th>\n",
       "      <th>Win</th>\n",
       "    </tr>\n",
       "  </thead>\n",
       "  <tbody>\n",
       "    <tr>\n",
       "      <th>0</th>\n",
       "      <td>1</td>\n",
       "      <td>0</td>\n",
       "      <td>0</td>\n",
       "      <td>0</td>\n",
       "      <td>1</td>\n",
       "      <td>0</td>\n",
       "      <td>1</td>\n",
       "      <td>0</td>\n",
       "      <td>1</td>\n",
       "      <td>0</td>\n",
       "      <td>...</td>\n",
       "      <td>0</td>\n",
       "      <td>0</td>\n",
       "      <td>0</td>\n",
       "      <td>0</td>\n",
       "      <td>1</td>\n",
       "      <td>1</td>\n",
       "      <td>0</td>\n",
       "      <td>0</td>\n",
       "      <td>weiter</td>\n",
       "      <td>-1</td>\n",
       "    </tr>\n",
       "    <tr>\n",
       "      <th>1</th>\n",
       "      <td>0</td>\n",
       "      <td>1</td>\n",
       "      <td>0</td>\n",
       "      <td>0</td>\n",
       "      <td>0</td>\n",
       "      <td>0</td>\n",
       "      <td>0</td>\n",
       "      <td>0</td>\n",
       "      <td>0</td>\n",
       "      <td>1</td>\n",
       "      <td>...</td>\n",
       "      <td>0</td>\n",
       "      <td>0</td>\n",
       "      <td>0</td>\n",
       "      <td>1</td>\n",
       "      <td>0</td>\n",
       "      <td>0</td>\n",
       "      <td>0</td>\n",
       "      <td>0</td>\n",
       "      <td>weiter</td>\n",
       "      <td>-1</td>\n",
       "    </tr>\n",
       "    <tr>\n",
       "      <th>2</th>\n",
       "      <td>0</td>\n",
       "      <td>0</td>\n",
       "      <td>0</td>\n",
       "      <td>1</td>\n",
       "      <td>0</td>\n",
       "      <td>1</td>\n",
       "      <td>0</td>\n",
       "      <td>0</td>\n",
       "      <td>0</td>\n",
       "      <td>0</td>\n",
       "      <td>...</td>\n",
       "      <td>1</td>\n",
       "      <td>1</td>\n",
       "      <td>0</td>\n",
       "      <td>0</td>\n",
       "      <td>0</td>\n",
       "      <td>0</td>\n",
       "      <td>0</td>\n",
       "      <td>1</td>\n",
       "      <td>Farbwenz Schelle</td>\n",
       "      <td>1</td>\n",
       "    </tr>\n",
       "    <tr>\n",
       "      <th>3</th>\n",
       "      <td>0</td>\n",
       "      <td>0</td>\n",
       "      <td>0</td>\n",
       "      <td>1</td>\n",
       "      <td>1</td>\n",
       "      <td>0</td>\n",
       "      <td>0</td>\n",
       "      <td>0</td>\n",
       "      <td>0</td>\n",
       "      <td>0</td>\n",
       "      <td>...</td>\n",
       "      <td>1</td>\n",
       "      <td>1</td>\n",
       "      <td>0</td>\n",
       "      <td>0</td>\n",
       "      <td>0</td>\n",
       "      <td>0</td>\n",
       "      <td>0</td>\n",
       "      <td>1</td>\n",
       "      <td>Farbgeier Schelle</td>\n",
       "      <td>1</td>\n",
       "    </tr>\n",
       "    <tr>\n",
       "      <th>4</th>\n",
       "      <td>1</td>\n",
       "      <td>0</td>\n",
       "      <td>0</td>\n",
       "      <td>0</td>\n",
       "      <td>0</td>\n",
       "      <td>0</td>\n",
       "      <td>0</td>\n",
       "      <td>0</td>\n",
       "      <td>1</td>\n",
       "      <td>0</td>\n",
       "      <td>...</td>\n",
       "      <td>1</td>\n",
       "      <td>0</td>\n",
       "      <td>0</td>\n",
       "      <td>0</td>\n",
       "      <td>0</td>\n",
       "      <td>0</td>\n",
       "      <td>1</td>\n",
       "      <td>1</td>\n",
       "      <td>weiter</td>\n",
       "      <td>1</td>\n",
       "    </tr>\n",
       "  </tbody>\n",
       "</table>\n",
       "<p>5 rows × 38 columns</p>\n",
       "</div>"
      ],
      "text/plain": [
       "   Player1  Player2  Player3  Player4  Eichel Ober  Eichel Unter  Eichel Ass  \\\n",
       "0        1        0        0        0            1             0           1   \n",
       "1        0        1        0        0            0             0           0   \n",
       "2        0        0        0        1            0             1           0   \n",
       "3        0        0        0        1            1             0           0   \n",
       "4        1        0        0        0            0             0           0   \n",
       "\n",
       "   Eichel 10  Eichel König  Eichel 9  ...  SchellenOber  SchellenUnter  \\\n",
       "0          0             1         0  ...             0              0   \n",
       "1          0             0         1  ...             0              0   \n",
       "2          0             0         0  ...             1              1   \n",
       "3          0             0         0  ...             1              1   \n",
       "4          0             1         0  ...             1              0   \n",
       "\n",
       "   SchellenAss  Schellen10  SchellenKönig  Schellen9  Schellen8  Schellen7  \\\n",
       "0            0           0              1          1          0          0   \n",
       "1            0           1              0          0          0          0   \n",
       "2            0           0              0          0          0          1   \n",
       "3            0           0              0          0          0          1   \n",
       "4            0           0              0          0          1          1   \n",
       "\n",
       "               Modus  Win  \n",
       "0             weiter   -1  \n",
       "1             weiter   -1  \n",
       "2   Farbwenz Schelle    1  \n",
       "3  Farbgeier Schelle    1  \n",
       "4             weiter    1  \n",
       "\n",
       "[5 rows x 38 columns]"
      ]
     },
     "execution_count": 5,
     "metadata": {},
     "output_type": "execute_result"
    }
   ],
   "source": [
    "df = pd.read_csv('/data/data.csv', sep=\";\")\n",
    "df.head()"
   ]
  },
  {
   "cell_type": "code",
   "execution_count": 6,
   "metadata": {},
   "outputs": [],
   "source": [
    "df_weiter = df[df['Modus'] == 'weiter']\n",
    "df_play = df[df['Modus'] != 'weiter']\n",
    "\n",
    "min_samples = min(len(df_weiter), len(df_play))\n",
    "\n",
    "df_weiter_sampled = df_weiter.sample(min_samples, random_state=42)\n",
    "df_play_sampled = df_play.sample(min_samples, random_state=42)\n",
    "\n",
    "\n",
    "df_balanced = pd.concat([df_weiter_sampled, df_play_sampled])\n"
   ]
  },
  {
   "cell_type": "code",
   "execution_count": 7,
   "metadata": {},
   "outputs": [
    {
     "data": {
      "text/html": [
       "<div>\n",
       "<style scoped>\n",
       "    .dataframe tbody tr th:only-of-type {\n",
       "        vertical-align: middle;\n",
       "    }\n",
       "\n",
       "    .dataframe tbody tr th {\n",
       "        vertical-align: top;\n",
       "    }\n",
       "\n",
       "    .dataframe thead th {\n",
       "        text-align: right;\n",
       "    }\n",
       "</style>\n",
       "<table border=\"1\" class=\"dataframe\">\n",
       "  <thead>\n",
       "    <tr style=\"text-align: right;\">\n",
       "      <th></th>\n",
       "      <th>Eichel Ober</th>\n",
       "      <th>Eichel Unter</th>\n",
       "      <th>Eichel Ass</th>\n",
       "      <th>Eichel 10</th>\n",
       "      <th>Eichel König</th>\n",
       "      <th>Eichel 9</th>\n",
       "      <th>Eichel 8</th>\n",
       "      <th>Eichel 7</th>\n",
       "      <th>Gras Ober</th>\n",
       "      <th>Gras Unter</th>\n",
       "      <th>...</th>\n",
       "      <th>Herz 8</th>\n",
       "      <th>Herz 7</th>\n",
       "      <th>SchellenOber</th>\n",
       "      <th>SchellenUnter</th>\n",
       "      <th>SchellenAss</th>\n",
       "      <th>Schellen10</th>\n",
       "      <th>SchellenKönig</th>\n",
       "      <th>Schellen9</th>\n",
       "      <th>Schellen8</th>\n",
       "      <th>Schellen7</th>\n",
       "    </tr>\n",
       "  </thead>\n",
       "  <tbody>\n",
       "    <tr>\n",
       "      <th>15175</th>\n",
       "      <td>0.0</td>\n",
       "      <td>0.0</td>\n",
       "      <td>0.0</td>\n",
       "      <td>0.0</td>\n",
       "      <td>0.0</td>\n",
       "      <td>1.0</td>\n",
       "      <td>0.0</td>\n",
       "      <td>0.0</td>\n",
       "      <td>1.0</td>\n",
       "      <td>0.0</td>\n",
       "      <td>...</td>\n",
       "      <td>0.0</td>\n",
       "      <td>1.0</td>\n",
       "      <td>0.0</td>\n",
       "      <td>0.0</td>\n",
       "      <td>1.0</td>\n",
       "      <td>0.0</td>\n",
       "      <td>0.0</td>\n",
       "      <td>0.0</td>\n",
       "      <td>0.0</td>\n",
       "      <td>0.0</td>\n",
       "    </tr>\n",
       "    <tr>\n",
       "      <th>73084</th>\n",
       "      <td>0.0</td>\n",
       "      <td>0.0</td>\n",
       "      <td>1.0</td>\n",
       "      <td>0.0</td>\n",
       "      <td>0.0</td>\n",
       "      <td>0.0</td>\n",
       "      <td>0.0</td>\n",
       "      <td>1.0</td>\n",
       "      <td>0.0</td>\n",
       "      <td>0.0</td>\n",
       "      <td>...</td>\n",
       "      <td>0.0</td>\n",
       "      <td>0.0</td>\n",
       "      <td>0.0</td>\n",
       "      <td>0.0</td>\n",
       "      <td>0.0</td>\n",
       "      <td>0.0</td>\n",
       "      <td>0.0</td>\n",
       "      <td>0.0</td>\n",
       "      <td>1.0</td>\n",
       "      <td>0.0</td>\n",
       "    </tr>\n",
       "    <tr>\n",
       "      <th>2003</th>\n",
       "      <td>1.0</td>\n",
       "      <td>0.0</td>\n",
       "      <td>0.0</td>\n",
       "      <td>0.0</td>\n",
       "      <td>1.0</td>\n",
       "      <td>0.0</td>\n",
       "      <td>0.0</td>\n",
       "      <td>0.0</td>\n",
       "      <td>0.0</td>\n",
       "      <td>0.0</td>\n",
       "      <td>...</td>\n",
       "      <td>0.0</td>\n",
       "      <td>1.0</td>\n",
       "      <td>1.0</td>\n",
       "      <td>0.0</td>\n",
       "      <td>1.0</td>\n",
       "      <td>0.0</td>\n",
       "      <td>0.0</td>\n",
       "      <td>0.0</td>\n",
       "      <td>0.0</td>\n",
       "      <td>1.0</td>\n",
       "    </tr>\n",
       "    <tr>\n",
       "      <th>129838</th>\n",
       "      <td>0.0</td>\n",
       "      <td>1.0</td>\n",
       "      <td>1.0</td>\n",
       "      <td>1.0</td>\n",
       "      <td>0.0</td>\n",
       "      <td>0.0</td>\n",
       "      <td>0.0</td>\n",
       "      <td>0.0</td>\n",
       "      <td>0.0</td>\n",
       "      <td>0.0</td>\n",
       "      <td>...</td>\n",
       "      <td>0.0</td>\n",
       "      <td>0.0</td>\n",
       "      <td>0.0</td>\n",
       "      <td>0.0</td>\n",
       "      <td>0.0</td>\n",
       "      <td>0.0</td>\n",
       "      <td>0.0</td>\n",
       "      <td>0.0</td>\n",
       "      <td>0.0</td>\n",
       "      <td>1.0</td>\n",
       "    </tr>\n",
       "    <tr>\n",
       "      <th>40394</th>\n",
       "      <td>0.0</td>\n",
       "      <td>1.0</td>\n",
       "      <td>0.0</td>\n",
       "      <td>0.0</td>\n",
       "      <td>1.0</td>\n",
       "      <td>0.0</td>\n",
       "      <td>1.0</td>\n",
       "      <td>0.0</td>\n",
       "      <td>0.0</td>\n",
       "      <td>1.0</td>\n",
       "      <td>...</td>\n",
       "      <td>1.0</td>\n",
       "      <td>0.0</td>\n",
       "      <td>0.0</td>\n",
       "      <td>0.0</td>\n",
       "      <td>0.0</td>\n",
       "      <td>0.0</td>\n",
       "      <td>0.0</td>\n",
       "      <td>0.0</td>\n",
       "      <td>0.0</td>\n",
       "      <td>0.0</td>\n",
       "    </tr>\n",
       "  </tbody>\n",
       "</table>\n",
       "<p>5 rows × 32 columns</p>\n",
       "</div>"
      ],
      "text/plain": [
       "        Eichel Ober  Eichel Unter  Eichel Ass  Eichel 10  Eichel König  \\\n",
       "15175           0.0           0.0         0.0        0.0           0.0   \n",
       "73084           0.0           0.0         1.0        0.0           0.0   \n",
       "2003            1.0           0.0         0.0        0.0           1.0   \n",
       "129838          0.0           1.0         1.0        1.0           0.0   \n",
       "40394           0.0           1.0         0.0        0.0           1.0   \n",
       "\n",
       "        Eichel 9  Eichel 8  Eichel 7  Gras Ober  Gras Unter  ...  Herz 8  \\\n",
       "15175        1.0       0.0       0.0        1.0         0.0  ...     0.0   \n",
       "73084        0.0       0.0       1.0        0.0         0.0  ...     0.0   \n",
       "2003         0.0       0.0       0.0        0.0         0.0  ...     0.0   \n",
       "129838       0.0       0.0       0.0        0.0         0.0  ...     0.0   \n",
       "40394        0.0       1.0       0.0        0.0         1.0  ...     1.0   \n",
       "\n",
       "        Herz 7  SchellenOber  SchellenUnter  SchellenAss  Schellen10  \\\n",
       "15175      1.0           0.0            0.0          1.0         0.0   \n",
       "73084      0.0           0.0            0.0          0.0         0.0   \n",
       "2003       1.0           1.0            0.0          1.0         0.0   \n",
       "129838     0.0           0.0            0.0          0.0         0.0   \n",
       "40394      0.0           0.0            0.0          0.0         0.0   \n",
       "\n",
       "        SchellenKönig  Schellen9  Schellen8  Schellen7  \n",
       "15175             0.0        0.0        0.0        0.0  \n",
       "73084             0.0        0.0        1.0        0.0  \n",
       "2003              0.0        0.0        0.0        1.0  \n",
       "129838            0.0        0.0        0.0        1.0  \n",
       "40394             0.0        0.0        0.0        0.0  \n",
       "\n",
       "[5 rows x 32 columns]"
      ]
     },
     "execution_count": 7,
     "metadata": {},
     "output_type": "execute_result"
    }
   ],
   "source": [
    "train_data = df_balanced.drop(['Player1','Player2','Player3','Player4','Win','Modus'], axis=1).astype(\"float32\")\n",
    "train_data.head()"
   ]
  },
  {
   "cell_type": "code",
   "execution_count": 8,
   "metadata": {},
   "outputs": [
    {
     "name": "stdout",
     "output_type": "stream",
     "text": [
      "Input Size:  32\n"
     ]
    }
   ],
   "source": [
    "train_data_size = np.shape(np.array(train_data))\n",
    "input_size = train_data_size[1]\n",
    "output_size = 2\n",
    "print(\"Input Size: \", input_size)"
   ]
  },
  {
   "cell_type": "code",
   "execution_count": 9,
   "metadata": {},
   "outputs": [
    {
     "data": {
      "text/plain": [
       "15175     0\n",
       "73084     0\n",
       "2003      0\n",
       "129838    0\n",
       "40394     0\n",
       "Name: Modus, dtype: int64"
      ]
     },
     "execution_count": 9,
     "metadata": {},
     "output_type": "execute_result"
    }
   ],
   "source": [
    "filter_weiter = lambda mode: 0 if mode == \"weiter\" else 1\n",
    "y = df_balanced['Modus'].apply(filter_weiter)\n",
    "y.head()"
   ]
  },
  {
   "cell_type": "code",
   "execution_count": 10,
   "metadata": {},
   "outputs": [
    {
     "data": {
      "text/plain": [
       "50787     1\n",
       "92251     0\n",
       "96218     1\n",
       "99093     1\n",
       "155457    0\n",
       "Name: Modus, dtype: int64"
      ]
     },
     "execution_count": 10,
     "metadata": {},
     "output_type": "execute_result"
    }
   ],
   "source": [
    "X_train, X_val, y_train, y_val = train_test_split(train_data, y, test_size=0.2, random_state=42)\n",
    "y_train.head()"
   ]
  },
  {
   "cell_type": "code",
   "execution_count": 11,
   "metadata": {},
   "outputs": [
    {
     "name": "stdout",
     "output_type": "stream",
     "text": [
      "31719\n"
     ]
    }
   ],
   "source": [
    "print(len(y_train[y_train == 0]))"
   ]
  },
  {
   "cell_type": "code",
   "execution_count": 12,
   "metadata": {},
   "outputs": [],
   "source": [
    "class SelectGameDataset(Dataset):\n",
    "    def __init__(self, X, y):\n",
    "        self.X = X\n",
    "        self.y = y\n",
    "\n",
    "    def __len__(self):\n",
    "        return len(self.X)\n",
    "\n",
    "    def __getitem__(self, idx):\n",
    "        return torch.tensor([self.X.iloc[idx]], device=device), torch.tensor(self.y.iloc[idx], device=device)"
   ]
  },
  {
   "cell_type": "code",
   "execution_count": 13,
   "metadata": {},
   "outputs": [],
   "source": [
    "train_dataset = SelectGameDataset(X_train, y_train)\n",
    "train_loader = DataLoader(train_dataset, batch_size=64, shuffle=True)"
   ]
  },
  {
   "cell_type": "code",
   "execution_count": 14,
   "metadata": {},
   "outputs": [],
   "source": [
    "test_dataset = SelectGameDataset(X_val, y_val)\n",
    "test_loader = DataLoader(test_dataset, batch_size=64, shuffle=False)"
   ]
  },
  {
   "cell_type": "code",
   "execution_count": 15,
   "metadata": {},
   "outputs": [],
   "source": [
    "class ShouldPlayNN(nn.Module):\n",
    "    def __init__(self):\n",
    "        super().__init__()\n",
    "        self.flatten = nn.Flatten()\n",
    "        self.linear_relu_stack = nn.Sequential(\n",
    "            nn.Linear(input_size, 64),\n",
    "            nn.ReLU(),\n",
    "            nn.Linear(64, 64),\n",
    "            nn.ReLU(),\n",
    "            nn.Linear(64, output_size)\n",
    "        )\n",
    "\n",
    "    def forward(self, x):\n",
    "        x = self.flatten(x)\n",
    "        logits = self.linear_relu_stack(x)\n",
    "        return logits"
   ]
  },
  {
   "cell_type": "code",
   "execution_count": 16,
   "metadata": {},
   "outputs": [
    {
     "name": "stdout",
     "output_type": "stream",
     "text": [
      "ShouldPlayNN(\n",
      "  (flatten): Flatten(start_dim=1, end_dim=-1)\n",
      "  (linear_relu_stack): Sequential(\n",
      "    (0): Linear(in_features=32, out_features=64, bias=True)\n",
      "    (1): ReLU()\n",
      "    (2): Linear(in_features=64, out_features=64, bias=True)\n",
      "    (3): ReLU()\n",
      "    (4): Linear(in_features=64, out_features=2, bias=True)\n",
      "  )\n",
      ")\n"
     ]
    }
   ],
   "source": [
    "model = ShouldPlayNN().to(device)\n",
    "print(model)"
   ]
  },
  {
   "cell_type": "code",
   "execution_count": 16,
   "metadata": {},
   "outputs": [],
   "source": [
    "optimizer = torch.optim.Adam(model.parameters(), lr=0.001)\n",
    "criterion = nn.CrossEntropyLoss()"
   ]
  },
  {
   "cell_type": "code",
   "execution_count": 17,
   "metadata": {},
   "outputs": [
    {
     "name": "stdout",
     "output_type": "stream",
     "text": [
      "Epoch [1/100] Batch [500/990] Loss: 0.3957\n",
      "Epoch [2/100] Batch [500/990] Loss: 0.3063\n",
      "Epoch [3/100] Batch [500/990] Loss: 0.2863\n",
      "Epoch [4/100] Batch [500/990] Loss: 0.2823\n",
      "Epoch [5/100] Batch [500/990] Loss: 0.2778\n",
      "Epoch [6/100] Batch [500/990] Loss: 0.2747\n",
      "Epoch [7/100] Batch [500/990] Loss: 0.2743\n",
      "Epoch [8/100] Batch [500/990] Loss: 0.2679\n",
      "Epoch [9/100] Batch [500/990] Loss: 0.2665\n",
      "Epoch [10/100] Batch [500/990] Loss: 0.2711\n",
      "Epoch [11/100] Batch [500/990] Loss: 0.2671\n",
      "Epoch [12/100] Batch [500/990] Loss: 0.2613\n",
      "Epoch [13/100] Batch [500/990] Loss: 0.2660\n",
      "Epoch [14/100] Batch [500/990] Loss: 0.2598\n",
      "Epoch [15/100] Batch [500/990] Loss: 0.2626\n",
      "Epoch [16/100] Batch [500/990] Loss: 0.2578\n",
      "Epoch [17/100] Batch [500/990] Loss: 0.2584\n",
      "Epoch [18/100] Batch [500/990] Loss: 0.2590\n",
      "Epoch [19/100] Batch [500/990] Loss: 0.2574\n",
      "Epoch [20/100] Batch [500/990] Loss: 0.2528\n",
      "Epoch [21/100] Batch [500/990] Loss: 0.2546\n",
      "Epoch [22/100] Batch [500/990] Loss: 0.2524\n",
      "Epoch [23/100] Batch [500/990] Loss: 0.2502\n",
      "Epoch [24/100] Batch [500/990] Loss: 0.2517\n",
      "Epoch [25/100] Batch [500/990] Loss: 0.2474\n",
      "Epoch [26/100] Batch [500/990] Loss: 0.2462\n",
      "Epoch [27/100] Batch [500/990] Loss: 0.2456\n",
      "Epoch [28/100] Batch [500/990] Loss: 0.2398\n",
      "Epoch [29/100] Batch [500/990] Loss: 0.2412\n",
      "Epoch [30/100] Batch [500/990] Loss: 0.2372\n",
      "Epoch [31/100] Batch [500/990] Loss: 0.2429\n",
      "Epoch [32/100] Batch [500/990] Loss: 0.2399\n",
      "Epoch [33/100] Batch [500/990] Loss: 0.2386\n",
      "Epoch [34/100] Batch [500/990] Loss: 0.2364\n",
      "Epoch [35/100] Batch [500/990] Loss: 0.2328\n",
      "Epoch [36/100] Batch [500/990] Loss: 0.2365\n",
      "Epoch [37/100] Batch [500/990] Loss: 0.2331\n",
      "Epoch [38/100] Batch [500/990] Loss: 0.2334\n",
      "Epoch [39/100] Batch [500/990] Loss: 0.2306\n",
      "Epoch [40/100] Batch [500/990] Loss: 0.2310\n",
      "Epoch [41/100] Batch [500/990] Loss: 0.2266\n",
      "Epoch [42/100] Batch [500/990] Loss: 0.2287\n",
      "Epoch [43/100] Batch [500/990] Loss: 0.2238\n",
      "Epoch [44/100] Batch [500/990] Loss: 0.2269\n",
      "Epoch [45/100] Batch [500/990] Loss: 0.2249\n",
      "Epoch [46/100] Batch [500/990] Loss: 0.2217\n",
      "Epoch [47/100] Batch [500/990] Loss: 0.2245\n",
      "Epoch [48/100] Batch [500/990] Loss: 0.2179\n",
      "Epoch [49/100] Batch [500/990] Loss: 0.2215\n",
      "Epoch [50/100] Batch [500/990] Loss: 0.2217\n",
      "Epoch [51/100] Batch [500/990] Loss: 0.2222\n",
      "Epoch [52/100] Batch [500/990] Loss: 0.2205\n",
      "Epoch [53/100] Batch [500/990] Loss: 0.2187\n",
      "Epoch [54/100] Batch [500/990] Loss: 0.2197\n",
      "Epoch [55/100] Batch [500/990] Loss: 0.2183\n",
      "Epoch [56/100] Batch [500/990] Loss: 0.2151\n",
      "Epoch [57/100] Batch [500/990] Loss: 0.2175\n",
      "Epoch [58/100] Batch [500/990] Loss: 0.2124\n",
      "Epoch [59/100] Batch [500/990] Loss: 0.2157\n",
      "Epoch [60/100] Batch [500/990] Loss: 0.2150\n",
      "Epoch [61/100] Batch [500/990] Loss: 0.2162\n",
      "Epoch [62/100] Batch [500/990] Loss: 0.2104\n",
      "Epoch [63/100] Batch [500/990] Loss: 0.2096\n",
      "Epoch [64/100] Batch [500/990] Loss: 0.2096\n",
      "Epoch [65/100] Batch [500/990] Loss: 0.2085\n",
      "Epoch [66/100] Batch [500/990] Loss: 0.2077\n",
      "Epoch [67/100] Batch [500/990] Loss: 0.2106\n",
      "Epoch [68/100] Batch [500/990] Loss: 0.2076\n",
      "Epoch [69/100] Batch [500/990] Loss: 0.2069\n",
      "Epoch [70/100] Batch [500/990] Loss: 0.2093\n",
      "Epoch [71/100] Batch [500/990] Loss: 0.2061\n",
      "Epoch [72/100] Batch [500/990] Loss: 0.2044\n",
      "Epoch [73/100] Batch [500/990] Loss: 0.2073\n",
      "Epoch [74/100] Batch [500/990] Loss: 0.2013\n",
      "Epoch [75/100] Batch [500/990] Loss: 0.2051\n",
      "Epoch [76/100] Batch [500/990] Loss: 0.2076\n",
      "Epoch [77/100] Batch [500/990] Loss: 0.2021\n",
      "Epoch [78/100] Batch [500/990] Loss: 0.2028\n",
      "Epoch [79/100] Batch [500/990] Loss: 0.1981\n",
      "Epoch [80/100] Batch [500/990] Loss: 0.1986\n",
      "Epoch [81/100] Batch [500/990] Loss: 0.2002\n",
      "Epoch [82/100] Batch [500/990] Loss: 0.1985\n",
      "Epoch [83/100] Batch [500/990] Loss: 0.1960\n",
      "Epoch [84/100] Batch [500/990] Loss: 0.1990\n",
      "Epoch [85/100] Batch [500/990] Loss: 0.1958\n",
      "Epoch [86/100] Batch [500/990] Loss: 0.1967\n",
      "Epoch [87/100] Batch [500/990] Loss: 0.1981\n",
      "Epoch [88/100] Batch [500/990] Loss: 0.1973\n",
      "Epoch [89/100] Batch [500/990] Loss: 0.1933\n",
      "Epoch [90/100] Batch [500/990] Loss: 0.1978\n",
      "Epoch [91/100] Batch [500/990] Loss: 0.1904\n",
      "Epoch [92/100] Batch [500/990] Loss: 0.1964\n",
      "Epoch [93/100] Batch [500/990] Loss: 0.1950\n",
      "Epoch [94/100] Batch [500/990] Loss: 0.1926\n",
      "Epoch [95/100] Batch [500/990] Loss: 0.1943\n",
      "Epoch [96/100] Batch [500/990] Loss: 0.1919\n",
      "Epoch [97/100] Batch [500/990] Loss: 0.1941\n",
      "Epoch [98/100] Batch [500/990] Loss: 0.1903\n",
      "Epoch [99/100] Batch [500/990] Loss: 0.1909\n",
      "Epoch [100/100] Batch [500/990] Loss: 0.1883\n"
     ]
    }
   ],
   "source": [
    "num_epochs = 100\n",
    "print_freq = 500  \n",
    "\n",
    "for epoch in range(num_epochs):\n",
    "    running_loss = 0.0  \n",
    "    for batch_idx, (inputs, labels) in enumerate(train_loader):\n",
    "        optimizer.zero_grad()\n",
    "        outputs = model(inputs)\n",
    "        loss = criterion(outputs, labels)\n",
    "        loss.backward()  \n",
    "        optimizer.step()\n",
    "        \n",
    "        running_loss += loss.item()\n",
    "\n",
    "        if (batch_idx + 1) % print_freq == 0:\n",
    "            print(f\"Epoch [{epoch+1}/{num_epochs}] Batch [{batch_idx+1}/{len(train_loader)}] Loss: {running_loss / print_freq:.4f}\")\n",
    "            running_loss = 0.0  "
   ]
  },
  {
   "cell_type": "code",
   "execution_count": 11,
   "metadata": {},
   "outputs": [],
   "source": [
    "\n",
    "torch.save(model.state_dict(), 'binary_classifier.pth')"
   ]
  },
  {
   "cell_type": "code",
   "execution_count": 17,
   "metadata": {},
   "outputs": [
    {
     "data": {
      "text/plain": [
       "<All keys matched successfully>"
      ]
     },
     "execution_count": 17,
     "metadata": {},
     "output_type": "execute_result"
    }
   ],
   "source": [
    "model_params_path = '/Users/joshua.stalla/Desktop/Studium/GamesEngineering/schafkopf-server/src/ai/select_game_type/two_layer_nn/models/binary_classifier.pth'\n",
    "#os.path.join(os.getcwd(), \"model\", \"params.pth\")\n",
    "params = torch.load(model_params_path, map_location=torch.device(device))\n",
    "model = ShouldPlayNN()\n",
    "model.load_state_dict(params)"
   ]
  },
  {
   "cell_type": "code",
   "execution_count": 18,
   "metadata": {},
   "outputs": [
    {
     "name": "stdout",
     "output_type": "stream",
     "text": [
      "Test Accuracy: 86.31%\n"
     ]
    },
    {
     "data": {
      "text/plain": [
       "ShouldPlayNN(\n",
       "  (flatten): Flatten(start_dim=1, end_dim=-1)\n",
       "  (linear_relu_stack): Sequential(\n",
       "    (0): Linear(in_features=32, out_features=64, bias=True)\n",
       "    (1): ReLU()\n",
       "    (2): Linear(in_features=64, out_features=64, bias=True)\n",
       "    (3): ReLU()\n",
       "    (4): Linear(in_features=64, out_features=2, bias=True)\n",
       "  )\n",
       ")"
      ]
     },
     "execution_count": 18,
     "metadata": {},
     "output_type": "execute_result"
    }
   ],
   "source": [
    "model.eval()\n",
    "\n",
    "correct = 0\n",
    "total = 0\n",
    "\n",
    "with torch.no_grad():\n",
    "    for inputs, labels in test_loader:\n",
    "        outputs = model(inputs)\n",
    "        _, predicted = torch.max(outputs, 1)\n",
    "        total += labels.size(0)\n",
    "        correct += (predicted == labels).sum().item()\n",
    "\n",
    "accuracy = 100 * correct / total\n",
    "print(f\"Test Accuracy: {accuracy:.2f}%\")\n",
    "\n",
    "# TODO: Evaluate for seperate classes\n",
    "\n",
    "model.train()"
   ]
  },
  {
   "cell_type": "code",
   "execution_count": 19,
   "metadata": {},
   "outputs": [],
   "source": [
    "y_pred = []\n",
    "y_true = []\n",
    "\n",
    "for inputs, labels in test_loader:\n",
    "    output = model(inputs) # Feed Network\n",
    "\n",
    "    output = (torch.max(torch.exp(output), 1)[1]).data.cpu().numpy()\n",
    "    y_pred.extend(output) # Save Prediction\n",
    "\n",
    "    labels = labels.data.cpu().numpy()\n",
    "    y_true.extend(labels) # Save Truth"
   ]
  },
  {
   "cell_type": "code",
   "execution_count": 23,
   "metadata": {},
   "outputs": [],
   "source": [
    "category_mapping = ['weiter', 'play']"
   ]
  },
  {
   "cell_type": "code",
   "execution_count": 28,
   "metadata": {},
   "outputs": [
    {
     "data": {
      "image/png": "[encoded data removed]",
      "text/plain": [
       "<Figure size 1080x648 with 2 Axes>"
      ]
     },
     "metadata": {
      "needs_background": "light"
     },
     "output_type": "display_data"
    }
   ],
   "source": [
    "# your previous confusion matrix\n",
    "cf_matrix = confusion_matrix(y_true, y_pred)\n",
    "\n",
    "# Normalize the confusion matrix\n",
    "cf_matrix_norm = cf_matrix / np.sum(cf_matrix, axis=1)[:, np.newaxis]\n",
    "cf_matrix_norm_rounded = np.round(cf_matrix_norm, decimals=1)  # round to 1 decimal\n",
    "\n",
    "# Create DataFrame from the normalized and rounded confusion matrix\n",
    "df_cm = pd.DataFrame(cf_matrix_norm_rounded, index=[i for i in category_mapping],\n",
    "                     columns=[i for i in category_mapping])\n",
    "\n",
    "# Create the heatmap with seaborn\n",
    "plt.figure(figsize=(15, 9))\n",
    "sn.heatmap(df_cm, annot=True, fmt='.1f')  # specify decimal format here for the annotation\n",
    "plt.show()"
   ]
  },
  {
   "cell_type": "code",
   "execution_count": null,
   "metadata": {},
   "outputs": [],
   "source": []
  },
  {
   "cell_type": "code",
   "execution_count": null,
   "metadata": {},
   "outputs": [],
   "source": []
  }
 ],
 "metadata": {
  "kernelspec": {
   "display_name": "Python 3.9.12",
   "language": "python",
   "name": "python3"
  },
  "language_info": {
   "codemirror_mode": {
    "name": "ipython",
    "version": 3
   },
   "file_extension": ".py",
   "mimetype": "text/x-python",
   "name": "python",
   "nbconvert_exporter": "python",
   "pygments_lexer": "ipython3",
   "version": "3.9.12"
  },
  "orig_nbformat": 4,
  "vscode": {
   "interpreter": {
    "hash": "dc5d0a53b00113ddeee422859c93bab972c169b71b54eaf49823bc3a7db79142"
   }
  }
 },
 "nbformat": 4,
 "nbformat_minor": 2
}
