{
 "cells": [
  {
   "cell_type": "markdown",
   "metadata": {},
   "source": []
  },
  {
   "cell_type": "code",
   "execution_count": 601,
   "metadata": {},
   "outputs": [],
   "source": [
    "import torch\n",
    "import pandas as pd\n",
    "import numpy as np\n",
    "from torch import nn\n",
    "from torch.utils.data import Dataset, DataLoader\n",
    "from sklearn.model_selection import train_test_split"
   ]
  },
  {
   "cell_type": "code",
   "execution_count": 602,
   "metadata": {},
   "outputs": [
    {
     "name": "stdout",
     "output_type": "stream",
     "text": [
      "Using cpu device\n"
     ]
    }
   ],
   "source": [
    "device = \"cpu\"\n",
    "print(f\"Using {device} device\")"
   ]
  },
  {
   "cell_type": "markdown",
   "metadata": {},
   "source": [
    "## Load Data"
   ]
  },
  {
   "cell_type": "code",
   "execution_count": 603,
   "metadata": {},
   "outputs": [
    {
     "data": {
      "text/html": [
       "<div>\n",
       "<style scoped>\n",
       "    .dataframe tbody tr th:only-of-type {\n",
       "        vertical-align: middle;\n",
       "    }\n",
       "\n",
       "    .dataframe tbody tr th {\n",
       "        vertical-align: top;\n",
       "    }\n",
       "\n",
       "    .dataframe thead th {\n",
       "        text-align: right;\n",
       "    }\n",
       "</style>\n",
       "<table border=\"1\" class=\"dataframe\">\n",
       "  <thead>\n",
       "    <tr style=\"text-align: right;\">\n",
       "      <th></th>\n",
       "      <th>Player1</th>\n",
       "      <th>Player2</th>\n",
       "      <th>Player3</th>\n",
       "      <th>Player4</th>\n",
       "      <th>Eichel Ober</th>\n",
       "      <th>Eichel Unter</th>\n",
       "      <th>Eichel Ass</th>\n",
       "      <th>Eichel 10</th>\n",
       "      <th>Eichel König</th>\n",
       "      <th>Eichel 9</th>\n",
       "      <th>...</th>\n",
       "      <th>SchellenOber</th>\n",
       "      <th>SchellenUnter</th>\n",
       "      <th>SchellenAss</th>\n",
       "      <th>Schellen10</th>\n",
       "      <th>SchellenKönig</th>\n",
       "      <th>Schellen9</th>\n",
       "      <th>Schellen8</th>\n",
       "      <th>Schellen7</th>\n",
       "      <th>Modus</th>\n",
       "      <th>Win</th>\n",
       "    </tr>\n",
       "  </thead>\n",
       "  <tbody>\n",
       "    <tr>\n",
       "      <th>0</th>\n",
       "      <td>1</td>\n",
       "      <td>0</td>\n",
       "      <td>0</td>\n",
       "      <td>0</td>\n",
       "      <td>1</td>\n",
       "      <td>0</td>\n",
       "      <td>1</td>\n",
       "      <td>0</td>\n",
       "      <td>1</td>\n",
       "      <td>0</td>\n",
       "      <td>...</td>\n",
       "      <td>0</td>\n",
       "      <td>0</td>\n",
       "      <td>0</td>\n",
       "      <td>0</td>\n",
       "      <td>1</td>\n",
       "      <td>1</td>\n",
       "      <td>0</td>\n",
       "      <td>0</td>\n",
       "      <td>weiter</td>\n",
       "      <td>-1</td>\n",
       "    </tr>\n",
       "    <tr>\n",
       "      <th>1</th>\n",
       "      <td>0</td>\n",
       "      <td>1</td>\n",
       "      <td>0</td>\n",
       "      <td>0</td>\n",
       "      <td>0</td>\n",
       "      <td>0</td>\n",
       "      <td>0</td>\n",
       "      <td>0</td>\n",
       "      <td>0</td>\n",
       "      <td>1</td>\n",
       "      <td>...</td>\n",
       "      <td>0</td>\n",
       "      <td>0</td>\n",
       "      <td>0</td>\n",
       "      <td>1</td>\n",
       "      <td>0</td>\n",
       "      <td>0</td>\n",
       "      <td>0</td>\n",
       "      <td>0</td>\n",
       "      <td>weiter</td>\n",
       "      <td>-1</td>\n",
       "    </tr>\n",
       "    <tr>\n",
       "      <th>2</th>\n",
       "      <td>0</td>\n",
       "      <td>0</td>\n",
       "      <td>0</td>\n",
       "      <td>1</td>\n",
       "      <td>0</td>\n",
       "      <td>1</td>\n",
       "      <td>0</td>\n",
       "      <td>0</td>\n",
       "      <td>0</td>\n",
       "      <td>0</td>\n",
       "      <td>...</td>\n",
       "      <td>1</td>\n",
       "      <td>1</td>\n",
       "      <td>0</td>\n",
       "      <td>0</td>\n",
       "      <td>0</td>\n",
       "      <td>0</td>\n",
       "      <td>0</td>\n",
       "      <td>1</td>\n",
       "      <td>Farbwenz Schelle</td>\n",
       "      <td>1</td>\n",
       "    </tr>\n",
       "    <tr>\n",
       "      <th>3</th>\n",
       "      <td>0</td>\n",
       "      <td>0</td>\n",
       "      <td>0</td>\n",
       "      <td>1</td>\n",
       "      <td>1</td>\n",
       "      <td>0</td>\n",
       "      <td>0</td>\n",
       "      <td>0</td>\n",
       "      <td>0</td>\n",
       "      <td>0</td>\n",
       "      <td>...</td>\n",
       "      <td>1</td>\n",
       "      <td>1</td>\n",
       "      <td>0</td>\n",
       "      <td>0</td>\n",
       "      <td>0</td>\n",
       "      <td>0</td>\n",
       "      <td>0</td>\n",
       "      <td>1</td>\n",
       "      <td>Farbgeier Schelle</td>\n",
       "      <td>1</td>\n",
       "    </tr>\n",
       "    <tr>\n",
       "      <th>4</th>\n",
       "      <td>1</td>\n",
       "      <td>0</td>\n",
       "      <td>0</td>\n",
       "      <td>0</td>\n",
       "      <td>0</td>\n",
       "      <td>0</td>\n",
       "      <td>0</td>\n",
       "      <td>0</td>\n",
       "      <td>1</td>\n",
       "      <td>0</td>\n",
       "      <td>...</td>\n",
       "      <td>1</td>\n",
       "      <td>0</td>\n",
       "      <td>0</td>\n",
       "      <td>0</td>\n",
       "      <td>0</td>\n",
       "      <td>0</td>\n",
       "      <td>1</td>\n",
       "      <td>1</td>\n",
       "      <td>weiter</td>\n",
       "      <td>1</td>\n",
       "    </tr>\n",
       "  </tbody>\n",
       "</table>\n",
       "<p>5 rows × 38 columns</p>\n",
       "</div>"
      ],
      "text/plain": [
       "   Player1  Player2  Player3  Player4  Eichel Ober  Eichel Unter  Eichel Ass  \\\n",
       "0        1        0        0        0            1             0           1   \n",
       "1        0        1        0        0            0             0           0   \n",
       "2        0        0        0        1            0             1           0   \n",
       "3        0        0        0        1            1             0           0   \n",
       "4        1        0        0        0            0             0           0   \n",
       "\n",
       "   Eichel 10  Eichel König  Eichel 9  ...  SchellenOber  SchellenUnter  \\\n",
       "0          0             1         0  ...             0              0   \n",
       "1          0             0         1  ...             0              0   \n",
       "2          0             0         0  ...             1              1   \n",
       "3          0             0         0  ...             1              1   \n",
       "4          0             1         0  ...             1              0   \n",
       "\n",
       "   SchellenAss  Schellen10  SchellenKönig  Schellen9  Schellen8  Schellen7  \\\n",
       "0            0           0              1          1          0          0   \n",
       "1            0           1              0          0          0          0   \n",
       "2            0           0              0          0          0          1   \n",
       "3            0           0              0          0          0          1   \n",
       "4            0           0              0          0          1          1   \n",
       "\n",
       "               Modus  Win  \n",
       "0             weiter   -1  \n",
       "1             weiter   -1  \n",
       "2   Farbwenz Schelle    1  \n",
       "3  Farbgeier Schelle    1  \n",
       "4             weiter    1  \n",
       "\n",
       "[5 rows x 38 columns]"
      ]
     },
     "execution_count": 603,
     "metadata": {},
     "output_type": "execute_result"
    }
   ],
   "source": [
    "df = pd.read_csv('data.csv', sep=\";\")\n",
    "df.head()"
   ]
  },
  {
   "cell_type": "markdown",
   "metadata": {},
   "source": [
    "## Preprocessing"
   ]
  },
  {
   "cell_type": "markdown",
   "metadata": {},
   "source": [
    "Wins are currently excluded. A Correlation between wins and the game mode is not trivial.\n",
    "\n",
    "TODO: Research if wins are also helpful for training"
   ]
  },
  {
   "cell_type": "code",
   "execution_count": 604,
   "metadata": {},
   "outputs": [
    {
     "data": {
      "text/html": [
       "<div>\n",
       "<style scoped>\n",
       "    .dataframe tbody tr th:only-of-type {\n",
       "        vertical-align: middle;\n",
       "    }\n",
       "\n",
       "    .dataframe tbody tr th {\n",
       "        vertical-align: top;\n",
       "    }\n",
       "\n",
       "    .dataframe thead th {\n",
       "        text-align: right;\n",
       "    }\n",
       "</style>\n",
       "<table border=\"1\" class=\"dataframe\">\n",
       "  <thead>\n",
       "    <tr style=\"text-align: right;\">\n",
       "      <th></th>\n",
       "      <th>Eichel Ober</th>\n",
       "      <th>Eichel Unter</th>\n",
       "      <th>Eichel Ass</th>\n",
       "      <th>Eichel 10</th>\n",
       "      <th>Eichel König</th>\n",
       "      <th>Eichel 9</th>\n",
       "      <th>Eichel 8</th>\n",
       "      <th>Eichel 7</th>\n",
       "      <th>Gras Ober</th>\n",
       "      <th>Gras Unter</th>\n",
       "      <th>...</th>\n",
       "      <th>Herz 8</th>\n",
       "      <th>Herz 7</th>\n",
       "      <th>SchellenOber</th>\n",
       "      <th>SchellenUnter</th>\n",
       "      <th>SchellenAss</th>\n",
       "      <th>Schellen10</th>\n",
       "      <th>SchellenKönig</th>\n",
       "      <th>Schellen9</th>\n",
       "      <th>Schellen8</th>\n",
       "      <th>Schellen7</th>\n",
       "    </tr>\n",
       "  </thead>\n",
       "  <tbody>\n",
       "    <tr>\n",
       "      <th>0</th>\n",
       "      <td>1.0</td>\n",
       "      <td>0.0</td>\n",
       "      <td>1.0</td>\n",
       "      <td>0.0</td>\n",
       "      <td>1.0</td>\n",
       "      <td>0.0</td>\n",
       "      <td>0.0</td>\n",
       "      <td>1.0</td>\n",
       "      <td>0.0</td>\n",
       "      <td>0.0</td>\n",
       "      <td>...</td>\n",
       "      <td>0.0</td>\n",
       "      <td>1.0</td>\n",
       "      <td>0.0</td>\n",
       "      <td>0.0</td>\n",
       "      <td>0.0</td>\n",
       "      <td>0.0</td>\n",
       "      <td>1.0</td>\n",
       "      <td>1.0</td>\n",
       "      <td>0.0</td>\n",
       "      <td>0.0</td>\n",
       "    </tr>\n",
       "    <tr>\n",
       "      <th>1</th>\n",
       "      <td>0.0</td>\n",
       "      <td>0.0</td>\n",
       "      <td>0.0</td>\n",
       "      <td>0.0</td>\n",
       "      <td>0.0</td>\n",
       "      <td>1.0</td>\n",
       "      <td>0.0</td>\n",
       "      <td>0.0</td>\n",
       "      <td>0.0</td>\n",
       "      <td>0.0</td>\n",
       "      <td>...</td>\n",
       "      <td>0.0</td>\n",
       "      <td>0.0</td>\n",
       "      <td>0.0</td>\n",
       "      <td>0.0</td>\n",
       "      <td>0.0</td>\n",
       "      <td>1.0</td>\n",
       "      <td>0.0</td>\n",
       "      <td>0.0</td>\n",
       "      <td>0.0</td>\n",
       "      <td>0.0</td>\n",
       "    </tr>\n",
       "    <tr>\n",
       "      <th>2</th>\n",
       "      <td>0.0</td>\n",
       "      <td>1.0</td>\n",
       "      <td>0.0</td>\n",
       "      <td>0.0</td>\n",
       "      <td>0.0</td>\n",
       "      <td>0.0</td>\n",
       "      <td>1.0</td>\n",
       "      <td>0.0</td>\n",
       "      <td>0.0</td>\n",
       "      <td>1.0</td>\n",
       "      <td>...</td>\n",
       "      <td>0.0</td>\n",
       "      <td>0.0</td>\n",
       "      <td>1.0</td>\n",
       "      <td>1.0</td>\n",
       "      <td>0.0</td>\n",
       "      <td>0.0</td>\n",
       "      <td>0.0</td>\n",
       "      <td>0.0</td>\n",
       "      <td>0.0</td>\n",
       "      <td>1.0</td>\n",
       "    </tr>\n",
       "    <tr>\n",
       "      <th>3</th>\n",
       "      <td>1.0</td>\n",
       "      <td>0.0</td>\n",
       "      <td>0.0</td>\n",
       "      <td>0.0</td>\n",
       "      <td>0.0</td>\n",
       "      <td>0.0</td>\n",
       "      <td>1.0</td>\n",
       "      <td>0.0</td>\n",
       "      <td>1.0</td>\n",
       "      <td>0.0</td>\n",
       "      <td>...</td>\n",
       "      <td>0.0</td>\n",
       "      <td>0.0</td>\n",
       "      <td>1.0</td>\n",
       "      <td>1.0</td>\n",
       "      <td>0.0</td>\n",
       "      <td>0.0</td>\n",
       "      <td>0.0</td>\n",
       "      <td>0.0</td>\n",
       "      <td>0.0</td>\n",
       "      <td>1.0</td>\n",
       "    </tr>\n",
       "    <tr>\n",
       "      <th>4</th>\n",
       "      <td>0.0</td>\n",
       "      <td>0.0</td>\n",
       "      <td>0.0</td>\n",
       "      <td>0.0</td>\n",
       "      <td>1.0</td>\n",
       "      <td>0.0</td>\n",
       "      <td>0.0</td>\n",
       "      <td>0.0</td>\n",
       "      <td>0.0</td>\n",
       "      <td>0.0</td>\n",
       "      <td>...</td>\n",
       "      <td>1.0</td>\n",
       "      <td>0.0</td>\n",
       "      <td>1.0</td>\n",
       "      <td>0.0</td>\n",
       "      <td>0.0</td>\n",
       "      <td>0.0</td>\n",
       "      <td>0.0</td>\n",
       "      <td>0.0</td>\n",
       "      <td>1.0</td>\n",
       "      <td>1.0</td>\n",
       "    </tr>\n",
       "  </tbody>\n",
       "</table>\n",
       "<p>5 rows × 32 columns</p>\n",
       "</div>"
      ],
      "text/plain": [
       "   Eichel Ober  Eichel Unter  Eichel Ass  Eichel 10  Eichel König  Eichel 9  \\\n",
       "0          1.0           0.0         1.0        0.0           1.0       0.0   \n",
       "1          0.0           0.0         0.0        0.0           0.0       1.0   \n",
       "2          0.0           1.0         0.0        0.0           0.0       0.0   \n",
       "3          1.0           0.0         0.0        0.0           0.0       0.0   \n",
       "4          0.0           0.0         0.0        0.0           1.0       0.0   \n",
       "\n",
       "   Eichel 8  Eichel 7  Gras Ober  Gras Unter  ...  Herz 8  Herz 7  \\\n",
       "0       0.0       1.0        0.0         0.0  ...     0.0     1.0   \n",
       "1       0.0       0.0        0.0         0.0  ...     0.0     0.0   \n",
       "2       1.0       0.0        0.0         1.0  ...     0.0     0.0   \n",
       "3       1.0       0.0        1.0         0.0  ...     0.0     0.0   \n",
       "4       0.0       0.0        0.0         0.0  ...     1.0     0.0   \n",
       "\n",
       "   SchellenOber  SchellenUnter  SchellenAss  Schellen10  SchellenKönig  \\\n",
       "0           0.0            0.0          0.0         0.0            1.0   \n",
       "1           0.0            0.0          0.0         1.0            0.0   \n",
       "2           1.0            1.0          0.0         0.0            0.0   \n",
       "3           1.0            1.0          0.0         0.0            0.0   \n",
       "4           1.0            0.0          0.0         0.0            0.0   \n",
       "\n",
       "   Schellen9  Schellen8  Schellen7  \n",
       "0        1.0        0.0        0.0  \n",
       "1        0.0        0.0        0.0  \n",
       "2        0.0        0.0        1.0  \n",
       "3        0.0        0.0        1.0  \n",
       "4        0.0        1.0        1.0  \n",
       "\n",
       "[5 rows x 32 columns]"
      ]
     },
     "execution_count": 604,
     "metadata": {},
     "output_type": "execute_result"
    }
   ],
   "source": [
    "train_data = df.drop(['Player1','Player2','Player3','Player4','Win','Modus'], axis=1).astype(\"float32\")\n",
    "train_data.head()"
   ]
  },
  {
   "cell_type": "code",
   "execution_count": 605,
   "metadata": {},
   "outputs": [
    {
     "name": "stdout",
     "output_type": "stream",
     "text": [
      "Input Size:  32\n"
     ]
    }
   ],
   "source": [
    "train_data_size = np.shape(np.array(train_data))\n",
    "input_size = train_data_size[1]\n",
    "print(\"Input Size: \", input_size)"
   ]
  },
  {
   "cell_type": "code",
   "execution_count": 606,
   "metadata": {},
   "outputs": [
    {
     "data": {
      "text/plain": [
       "0               weiter\n",
       "1               weiter\n",
       "2     Farbwenz Schelle\n",
       "3    Farbgeier Schelle\n",
       "4               weiter\n",
       "Name: Modus, dtype: object"
      ]
     },
     "execution_count": 606,
     "metadata": {},
     "output_type": "execute_result"
    }
   ],
   "source": [
    "output_data = df['Modus']\n",
    "output_data.head()"
   ]
  },
  {
   "cell_type": "code",
   "execution_count": 607,
   "metadata": {},
   "outputs": [
    {
     "name": "stdout",
     "output_type": "stream",
     "text": [
      "Output Size:  18\n"
     ]
    }
   ],
   "source": [
    "output_data_codes = output_data.astype(\"category\").cat.codes\n",
    "output_size = max(output_data_codes) + 1\n",
    "y = output_data_codes.astype(\"long\")\n",
    "print(\"Output Size: \", output_size)"
   ]
  },
  {
   "cell_type": "markdown",
   "metadata": {},
   "source": [
    "## Create Datasets"
   ]
  },
  {
   "cell_type": "code",
   "execution_count": 608,
   "metadata": {},
   "outputs": [],
   "source": [
    "X_train, X_val, y_train, y_val = train_test_split(train_data, y, test_size=0.2, random_state=42)"
   ]
  },
  {
   "cell_type": "code",
   "execution_count": 609,
   "metadata": {},
   "outputs": [],
   "source": [
    "class SelectGameDataset(Dataset):\n",
    "    def __init__(self, X, y):\n",
    "        self.X = X\n",
    "        self.y = y\n",
    "\n",
    "    def __len__(self):\n",
    "        return len(self.X)\n",
    "\n",
    "    def __getitem__(self, idx):\n",
    "        return torch.tensor([self.X.iloc[idx]], device=device), torch.tensor(self.y.iloc[idx], device=device)\n"
   ]
  },
  {
   "cell_type": "code",
   "execution_count": 610,
   "metadata": {},
   "outputs": [],
   "source": [
    "train_dataset = SelectGameDataset(X_train, y_train)\n",
    "train_loader = DataLoader(train_dataset, batch_size=64, shuffle=True)"
   ]
  },
  {
   "cell_type": "code",
   "execution_count": 611,
   "metadata": {},
   "outputs": [],
   "source": [
    "test_dataset = SelectGameDataset(X_val, y_val)\n",
    "test_loader = DataLoader(test_dataset, batch_size=64, shuffle=False)"
   ]
  },
  {
   "cell_type": "markdown",
   "metadata": {},
   "source": [
    "## Define NN Classifier"
   ]
  },
  {
   "cell_type": "code",
   "execution_count": 612,
   "metadata": {},
   "outputs": [],
   "source": [
    "class SelectGameNN(nn.Module):\n",
    "    def __init__(self):\n",
    "        super().__init__()\n",
    "        self.flatten = nn.Flatten()\n",
    "        self.linear_relu_stack = nn.Sequential(\n",
    "            nn.Linear(input_size, 64),\n",
    "            nn.ReLU(),\n",
    "            nn.Linear(64, 64),\n",
    "            nn.ReLU(),\n",
    "            nn.Linear(64, output_size)\n",
    "        )\n",
    "\n",
    "    def forward(self, x):\n",
    "        x = self.flatten(x)\n",
    "        logits = self.linear_relu_stack(x)\n",
    "        return logits"
   ]
  },
  {
   "cell_type": "code",
   "execution_count": 613,
   "metadata": {
    "scrolled": true
   },
   "outputs": [
    {
     "name": "stdout",
     "output_type": "stream",
     "text": [
      "SelectGameNN(\n",
      "  (flatten): Flatten(start_dim=1, end_dim=-1)\n",
      "  (linear_relu_stack): Sequential(\n",
      "    (0): Linear(in_features=32, out_features=64, bias=True)\n",
      "    (1): ReLU()\n",
      "    (2): Linear(in_features=64, out_features=64, bias=True)\n",
      "    (3): ReLU()\n",
      "    (4): Linear(in_features=64, out_features=18, bias=True)\n",
      "  )\n",
      ")\n"
     ]
    }
   ],
   "source": [
    "model = SelectGameNN().to(device)\n",
    "print(model)"
   ]
  },
  {
   "cell_type": "markdown",
   "metadata": {},
   "source": [
    "## Train Model"
   ]
  },
  {
   "cell_type": "code",
   "execution_count": 614,
   "metadata": {},
   "outputs": [],
   "source": [
    "optimizer = torch.optim.Adam(model.parameters(), lr=0.001)"
   ]
  },
  {
   "cell_type": "code",
   "execution_count": 615,
   "metadata": {},
   "outputs": [],
   "source": [
    "criterion = nn.CrossEntropyLoss()"
   ]
  },
  {
   "cell_type": "code",
   "execution_count": 616,
   "metadata": {},
   "outputs": [
    {
     "name": "stdout",
     "output_type": "stream",
     "text": [
      "Epoch [1/10] Batch [500/2120] Loss: 1.0062\n",
      "Epoch [1/10] Batch [1000/2120] Loss: 0.6744\n",
      "Epoch [1/10] Batch [1500/2120] Loss: 0.5928\n",
      "Epoch [1/10] Batch [2000/2120] Loss: 0.5409\n",
      "Epoch [2/10] Batch [500/2120] Loss: 0.5176\n",
      "Epoch [2/10] Batch [1000/2120] Loss: 0.5057\n",
      "Epoch [2/10] Batch [1500/2120] Loss: 0.4918\n",
      "Epoch [2/10] Batch [2000/2120] Loss: 0.4719\n",
      "Epoch [3/10] Batch [500/2120] Loss: 0.4661\n",
      "Epoch [3/10] Batch [1000/2120] Loss: 0.4437\n",
      "Epoch [3/10] Batch [1500/2120] Loss: 0.4462\n",
      "Epoch [3/10] Batch [2000/2120] Loss: 0.4454\n",
      "Epoch [4/10] Batch [500/2120] Loss: 0.4322\n",
      "Epoch [4/10] Batch [1000/2120] Loss: 0.4289\n",
      "Epoch [4/10] Batch [1500/2120] Loss: 0.4304\n",
      "Epoch [4/10] Batch [2000/2120] Loss: 0.4238\n",
      "Epoch [5/10] Batch [500/2120] Loss: 0.4259\n",
      "Epoch [5/10] Batch [1000/2120] Loss: 0.4212\n",
      "Epoch [5/10] Batch [1500/2120] Loss: 0.4271\n",
      "Epoch [5/10] Batch [2000/2120] Loss: 0.4128\n",
      "Epoch [6/10] Batch [500/2120] Loss: 0.4137\n",
      "Epoch [6/10] Batch [1000/2120] Loss: 0.4180\n",
      "Epoch [6/10] Batch [1500/2120] Loss: 0.4214\n",
      "Epoch [6/10] Batch [2000/2120] Loss: 0.4143\n",
      "Epoch [7/10] Batch [500/2120] Loss: 0.4148\n",
      "Epoch [7/10] Batch [1000/2120] Loss: 0.4127\n",
      "Epoch [7/10] Batch [1500/2120] Loss: 0.4108\n",
      "Epoch [7/10] Batch [2000/2120] Loss: 0.4132\n",
      "Epoch [8/10] Batch [500/2120] Loss: 0.4094\n",
      "Epoch [8/10] Batch [1000/2120] Loss: 0.4061\n",
      "Epoch [8/10] Batch [1500/2120] Loss: 0.4092\n",
      "Epoch [8/10] Batch [2000/2120] Loss: 0.4086\n",
      "Epoch [9/10] Batch [500/2120] Loss: 0.4028\n",
      "Epoch [9/10] Batch [1000/2120] Loss: 0.4036\n",
      "Epoch [9/10] Batch [1500/2120] Loss: 0.4105\n",
      "Epoch [9/10] Batch [2000/2120] Loss: 0.4048\n",
      "Epoch [10/10] Batch [500/2120] Loss: 0.3987\n",
      "Epoch [10/10] Batch [1000/2120] Loss: 0.4069\n",
      "Epoch [10/10] Batch [1500/2120] Loss: 0.4042\n",
      "Epoch [10/10] Batch [2000/2120] Loss: 0.4062\n"
     ]
    }
   ],
   "source": [
    "num_epochs = 10\n",
    "print_freq = 500  \n",
    "\n",
    "for epoch in range(num_epochs):\n",
    "    running_loss = 0.0  \n",
    "    for batch_idx, (inputs, labels) in enumerate(train_loader):\n",
    "        optimizer.zero_grad()\n",
    "        outputs = model(inputs)\n",
    "        loss = criterion(outputs, labels)\n",
    "        loss.backward()  \n",
    "        optimizer.step()\n",
    "        \n",
    "        running_loss += loss.item()\n",
    "\n",
    "        if (batch_idx + 1) % print_freq == 0:\n",
    "            print(f\"Epoch [{epoch+1}/{num_epochs}] Batch [{batch_idx+1}/{len(train_loader)}] Loss: {running_loss / print_freq:.4f}\")\n",
    "            running_loss = 0.0  \n"
   ]
  },
  {
   "cell_type": "markdown",
   "metadata": {},
   "source": [
    "## Evaluate Model"
   ]
  },
  {
   "cell_type": "code",
   "execution_count": 617,
   "metadata": {},
   "outputs": [
    {
     "name": "stdout",
     "output_type": "stream",
     "text": [
      "Test Accuracy: 83.74%\n"
     ]
    },
    {
     "data": {
      "text/plain": [
       "SelectGameNN(\n",
       "  (flatten): Flatten(start_dim=1, end_dim=-1)\n",
       "  (linear_relu_stack): Sequential(\n",
       "    (0): Linear(in_features=32, out_features=64, bias=True)\n",
       "    (1): ReLU()\n",
       "    (2): Linear(in_features=64, out_features=64, bias=True)\n",
       "    (3): ReLU()\n",
       "    (4): Linear(in_features=64, out_features=18, bias=True)\n",
       "  )\n",
       ")"
      ]
     },
     "execution_count": 617,
     "metadata": {},
     "output_type": "execute_result"
    }
   ],
   "source": [
    "model.eval()\n",
    "\n",
    "correct = 0\n",
    "total = 0\n",
    "\n",
    "with torch.no_grad():\n",
    "    for inputs, labels in test_loader:\n",
    "        outputs = model(inputs)\n",
    "        _, predicted = torch.max(outputs, 1)\n",
    "        total += labels.size(0)\n",
    "        correct += (predicted == labels).sum().item()\n",
    "\n",
    "accuracy = 100 * correct / total\n",
    "print(f\"Test Accuracy: {accuracy:.2f}%\")\n",
    "\n",
    "# TODO: Evaluate for seperate classes\n",
    "\n",
    "model.train() "
   ]
  },
  {
   "cell_type": "markdown",
   "metadata": {},
   "source": [
    "## Example Execution"
   ]
  },
  {
   "cell_type": "code",
   "execution_count": 618,
   "metadata": {},
   "outputs": [
    {
     "name": "stdout",
     "output_type": "stream",
     "text": [
      "Example Output:  weiter\n"
     ]
    }
   ],
   "source": [
    "# Define input\n",
    "X = torch.tensor(train_data[0:1].values, device=device)\n",
    "# Execute\n",
    "out = model(X)\n",
    "# Map output\n",
    "output_code = torch.max(out, 1).indices[0].item()\n",
    "category_mapping = output_data.astype(\"category\").cat.categories\n",
    "print(\"Example Output: \",category_mapping[output_code])"
   ]
  },
  {
   "cell_type": "code",
   "execution_count": null,
   "metadata": {},
   "outputs": [],
   "source": []
  },
  {
   "cell_type": "code",
   "execution_count": null,
   "metadata": {},
   "outputs": [],
   "source": []
  }
 ],
 "metadata": {
  "kernelspec": {
   "display_name": "Python 3 (ipykernel)",
   "language": "python",
   "name": "python3"
  },
  "language_info": {
   "codemirror_mode": {
    "name": "ipython",
    "version": 3
   },
   "file_extension": ".py",
   "mimetype": "text/x-python",
   "name": "python",
   "nbconvert_exporter": "python",
   "pygments_lexer": "ipython3",
   "version": "3.9.12"
  }
 },
 "nbformat": 4,
 "nbformat_minor": 2
}
